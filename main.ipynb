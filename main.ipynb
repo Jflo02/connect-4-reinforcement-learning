{
 "cells": [
  {
   "cell_type": "markdown",
   "metadata": {},
   "source": [
    "TP ia puissance 4\n",
    "\n",
    "Puissance 4\n",
    "6 lignes / 7 colonnes\n",
    "Récompenses\n",
    "pion au hasard -> - 0.1\n",
    "win = +1\n",
    "lose = -1"
   ]
  },
  {
   "cell_type": "code",
   "execution_count": 7,
   "metadata": {},
   "outputs": [],
   "source": [
    "from prettytable import PrettyTable\n",
    "import pandas as pd\n",
    "import numpy as np\n"
   ]
  },
  {
   "cell_type": "code",
   "execution_count": 19,
   "metadata": {},
   "outputs": [],
   "source": [
    "class Board:\n",
    "    def __init__(self, player1, player2, line_number, columns_number, q_table=None):\n",
    "        \n",
    "        self.columns_number = columns_number\n",
    "        self.line_number = line_number\n",
    "        \n",
    "        self.table = [['' for _ in range(columns_number)] for _ in range(line_number)]\n",
    "        \n",
    "        self.player1 = player1\n",
    "        self.player2 = player2\n",
    "        \n",
    "        if q_table is None:\n",
    "            headers = ['state'] + [f'col {str(x)}' for x in range(self.columns_number)]\n",
    "            self.q_table = pd.DataFrame(columns=headers)\n",
    "        else:\n",
    "            self.q_table = q_table\n",
    "            \n",
    "                   \n",
    "    def place_pion(self, player, column):\n",
    "        if column < 0 or column >= self.columns_number:\n",
    "            raise ValueError(\"Invalid column number\")\n",
    "        \n",
    "        # Je mets mon pion dans la colonne donnée pour la ligne la plus basse possible\n",
    "        \n",
    "        \n",
    "    def get_possible_actions(self):\n",
    "        # Retourne la liste des colonnes où l'on peut encore jouer\n",
    "        \n",
    "        list_of_columns_availbe_to_play = []\n",
    "        \n",
    "        for column in range(self.columns_number):\n",
    "            if(self.check_if_column_is_full(column) == False):\n",
    "                list_of_columns_availbe_to_play.append(column)\n",
    "        \n",
    "        return list_of_columns_availbe_to_play\n",
    "            \n",
    "    \n",
    "    def check_if_column_is_full(self, column_number):\n",
    "        # Retourne True si la colonne est pleine, False sinon\n",
    "        if column_number < 0 or column_number >= self.columns_number:\n",
    "            raise ValueError(\"Invalid column number\")\n",
    "        \n",
    "        return self.table[0][column_number] != ''\n",
    "            \n",
    "    \n",
    "    def print_board(self):\n",
    "        tab = PrettyTable()\n",
    "        tab.header = False\n",
    "        for line in self.table:\n",
    "            tab.add_row([x for x in line])\n",
    "        print(tab)\n",
    "        \n",
    "    def print_q_table(self):\n",
    "        print(self.q_table.head())\n",
    "        \n",
    "    def initialize_state(self):\n",
    "        # Ajoute l'état du state dans la q table\n",
    "        # headers = ['state'] + [str(x) for x in range(self.columns_number)]\n",
    "        # print(headers)\n",
    "        \n",
    "        table_state = self.get_string_representation()\n",
    "        \n",
    "        if table_state not in self.q_table.index:\n",
    "            \n",
    "            print('number of zeros = ', np.zeros(self.columns_number))\n",
    "            print('df = ', self.q_table)\n",
    "            new_row = [table_state] + [0]*self.columns_number\n",
    "\n",
    "            self.q_table.loc[table_state] = new_row\n",
    "         \n",
    "        # print(q_table.head())\n",
    "        \n",
    "    def get_string_representation(self):\n",
    "        return str(self.table)\n",
    "\n"
   ]
  },
  {
   "cell_type": "code",
   "execution_count": 3,
   "metadata": {},
   "outputs": [],
   "source": [
    "class Player:\n",
    "    def __init__(self, symbol):\n",
    "        self.symbol = symbol\n",
    "\n",
    "    def __str__(self):\n",
    "        return f'{self.name} ({self.symbol})'\n",
    "\n",
    "    def __repr__(self):\n",
    "        return self.__str__()"
   ]
  },
  {
   "cell_type": "code",
   "execution_count": 20,
   "metadata": {},
   "outputs": [
    {
     "name": "stdout",
     "output_type": "stream",
     "text": [
      "+--+--+--+--+--+--+--+\n",
      "|  |  |  |  |  |  |  |\n",
      "|  |  |  |  |  |  |  |\n",
      "|  |  |  |  |  |  |  |\n",
      "|  |  |  |  |  |  |  |\n",
      "|  |  |  |  |  |  |  |\n",
      "|  |  |  |  |  |  |  |\n",
      "+--+--+--+--+--+--+--+\n",
      "Empty DataFrame\n",
      "Columns: [state, col 0, col 1, col 2, col 3, col 4, col 5, col 6]\n",
      "Index: []\n",
      "number of zeros =  [0. 0. 0. 0. 0. 0. 0.]\n",
      "df =  Empty DataFrame\n",
      "Columns: [state, col 0, col 1, col 2, col 3, col 4, col 5, col 6]\n",
      "Index: []\n",
      "                                                                                                state  \\\n",
      "[['', '', '', '', '', '', ''], ['', '', '', '',...  [['', '', '', '', '', '', ''], ['', '', '', ''...   \n",
      "\n",
      "                                                    col 0  col 1  col 2  \\\n",
      "[['', '', '', '', '', '', ''], ['', '', '', '',...      0      0      0   \n",
      "\n",
      "                                                    col 3  col 4  col 5  col 6  \n",
      "[['', '', '', '', '', '', ''], ['', '', '', '',...      0      0      0      0  \n"
     ]
    }
   ],
   "source": [
    "player1 = Player('X')\n",
    "player2 = Player('O')\n",
    "board1 = Board(player1=player1, player2=player2, line_number=6, columns_number=7)\n",
    "\n",
    "board1.print_board()\n",
    "board1.get_possible_actions()\n",
    "board1.print_q_table()\n",
    "board1.initialize_state()\n",
    "board1.print_q_table()"
   ]
  },
  {
   "cell_type": "markdown",
   "metadata": {},
   "source": []
  },
  {
   "cell_type": "code",
   "execution_count": null,
   "metadata": {},
   "outputs": [],
   "source": [
    "# Au début c'est soit le joueur soi l'ia qui commence\n",
    "# On place un pion sur la ligne du bas forcément\n",
    "# Je vais créer une classe pour le plateau\n",
    "\n",
    "\n",
    "# mon etat c est pas seulement les coordonnées du pion  mais c'est tout le plateau\n",
    "# avec sur chaque case la valeur associe\n",
    "# Donc la q table va etre groooooosse\n"
   ]
  }
 ],
 "metadata": {
  "kernelspec": {
   "display_name": "venv",
   "language": "python",
   "name": "python3"
  },
  "language_info": {
   "codemirror_mode": {
    "name": "ipython",
    "version": 3
   },
   "file_extension": ".py",
   "mimetype": "text/x-python",
   "name": "python",
   "nbconvert_exporter": "python",
   "pygments_lexer": "ipython3",
   "version": "3.12.0"
  }
 },
 "nbformat": 4,
 "nbformat_minor": 2
}
